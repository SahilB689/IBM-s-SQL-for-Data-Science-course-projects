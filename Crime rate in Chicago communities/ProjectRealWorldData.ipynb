{
 "cells": [
  {
   "cell_type": "code",
   "execution_count": 8,
   "id": "148bae29-1170-4091-a176-071f29a2571e",
   "metadata": {},
   "outputs": [
    {
     "name": "stdout",
     "output_type": "stream",
     "text": [
      " * ibm_db_sa://dzk37375:***@dashdb-txn-sbox-yp-dal09-08.services.dal.bluemix.net:50000/BLUDB\n",
      "Done.\n"
     ]
    },
    {
     "data": {
      "text/html": [
       "<table>\n",
       "    <thead>\n",
       "        <tr>\n",
       "            <th>1</th>\n",
       "        </tr>\n",
       "    </thead>\n",
       "    <tbody>\n",
       "        <tr>\n",
       "            <td>533</td>\n",
       "        </tr>\n",
       "    </tbody>\n",
       "</table>"
      ],
      "text/plain": [
       "[(Decimal('533'),)]"
      ]
     },
     "execution_count": 8,
     "metadata": {},
     "output_type": "execute_result"
    }
   ],
   "source": [
    "%sql select COUNT(*) from CHICAGOCRIMEDATA;"
   ]
  },
  {
   "cell_type": "code",
   "execution_count": 9,
   "id": "911b4cc6-32bb-4552-9976-c8dedc66cb40",
   "metadata": {},
   "outputs": [
    {
     "name": "stdout",
     "output_type": "stream",
     "text": [
      " * ibm_db_sa://dzk37375:***@dashdb-txn-sbox-yp-dal09-08.services.dal.bluemix.net:50000/BLUDB\n",
      "Done.\n"
     ]
    },
    {
     "data": {
      "text/html": [
       "<table>\n",
       "    <thead>\n",
       "        <tr>\n",
       "            <th>community_area_name</th>\n",
       "        </tr>\n",
       "    </thead>\n",
       "    <tbody>\n",
       "        <tr>\n",
       "            <td>West Garfield Park</td>\n",
       "        </tr>\n",
       "        <tr>\n",
       "            <td>South Lawndale</td>\n",
       "        </tr>\n",
       "        <tr>\n",
       "            <td>Fuller Park</td>\n",
       "        </tr>\n",
       "        <tr>\n",
       "            <td>Riverdale</td>\n",
       "        </tr>\n",
       "    </tbody>\n",
       "</table>"
      ],
      "text/plain": [
       "[('West Garfield Park',),\n",
       " ('South Lawndale',),\n",
       " ('Fuller Park',),\n",
       " ('Riverdale',)]"
      ]
     },
     "execution_count": 9,
     "metadata": {},
     "output_type": "execute_result"
    }
   ],
   "source": [
    "%sql select COMMUNITY_AREA_NAME from CHICAGOCENSUSDATA where PER_CAPITA_INCOME < 11000;"
   ]
  },
  {
   "cell_type": "code",
   "execution_count": 12,
   "id": "3f23d41a-4c5e-4b0b-b27f-6b4c6eadf56b",
   "metadata": {},
   "outputs": [
    {
     "name": "stdout",
     "output_type": "stream",
     "text": [
      " * ibm_db_sa://dzk37375:***@dashdb-txn-sbox-yp-dal09-08.services.dal.bluemix.net:50000/BLUDB\n",
      "Done.\n"
     ]
    },
    {
     "data": {
      "text/html": [
       "<table>\n",
       "    <thead>\n",
       "        <tr>\n",
       "            <th>case_number</th>\n",
       "        </tr>\n",
       "    </thead>\n",
       "    <tbody>\n",
       "        <tr>\n",
       "            <td>HN567387</td>\n",
       "        </tr>\n",
       "        <tr>\n",
       "            <td>HR391350</td>\n",
       "        </tr>\n",
       "        <tr>\n",
       "            <td>HM768251</td>\n",
       "        </tr>\n",
       "        <tr>\n",
       "            <td>HT394616</td>\n",
       "        </tr>\n",
       "        <tr>\n",
       "            <td>HN144152</td>\n",
       "        </tr>\n",
       "    </tbody>\n",
       "</table>"
      ],
      "text/plain": [
       "[('HN567387',), ('HR391350',), ('HM768251',), ('HT394616',), ('HN144152',)]"
      ]
     },
     "execution_count": 12,
     "metadata": {},
     "output_type": "execute_result"
    }
   ],
   "source": [
    "%sql select CASE_NUMBER from CHICAGOCRIMEDATA where DESCRIPTION LIKE '%CHILD%' OR PRIMARY_TYPE LIKE '%CHILDREN%'; "
   ]
  },
  {
   "cell_type": "code",
   "execution_count": 20,
   "id": "7aaa610e-0b17-4e44-be74-61ce0b1aa683",
   "metadata": {},
   "outputs": [
    {
     "name": "stdout",
     "output_type": "stream",
     "text": [
      " * ibm_db_sa://dzk37375:***@dashdb-txn-sbox-yp-dal09-08.services.dal.bluemix.net:50000/BLUDB\n",
      "Done.\n"
     ]
    },
    {
     "data": {
      "text/html": [
       "<table>\n",
       "    <thead>\n",
       "        <tr>\n",
       "            <th>AVERAGE SAFETY SCORE</th>\n",
       "        </tr>\n",
       "    </thead>\n",
       "    <tbody>\n",
       "        <tr>\n",
       "            <td>49.504873</td>\n",
       "        </tr>\n",
       "    </tbody>\n",
       "</table>"
      ],
      "text/plain": [
       "[(Decimal('49.504873'),)]"
      ]
     },
     "execution_count": 20,
     "metadata": {},
     "output_type": "execute_result"
    }
   ],
   "source": [
    "#List the average safety score for all types of schools.\n",
    "\n",
    "%sql select AVG(SAFETY_SCORE) as \"AVERAGE SAFETY SCORE\" FROM CHICAGOPUBLICSCHOOLS ;"
   ]
  },
  {
   "cell_type": "code",
   "execution_count": 27,
   "id": "f5a01add-632b-4501-96e4-debf8496a52b",
   "metadata": {},
   "outputs": [
    {
     "name": "stdout",
     "output_type": "stream",
     "text": [
      " * ibm_db_sa://dzk37375:***@dashdb-txn-sbox-yp-dal09-08.services.dal.bluemix.net:50000/BLUDB\n",
      "Done.\n"
     ]
    },
    {
     "data": {
      "text/html": [
       "<table>\n",
       "    <thead>\n",
       "        <tr>\n",
       "            <th>community_area_name</th>\n",
       "            <th>percent_households_below_poverty</th>\n",
       "        </tr>\n",
       "    </thead>\n",
       "    <tbody>\n",
       "        <tr>\n",
       "            <td>Riverdale</td>\n",
       "            <td>56.5</td>\n",
       "        </tr>\n",
       "        <tr>\n",
       "            <td>Fuller Park</td>\n",
       "            <td>51.2</td>\n",
       "        </tr>\n",
       "        <tr>\n",
       "            <td>Englewood</td>\n",
       "            <td>46.6</td>\n",
       "        </tr>\n",
       "        <tr>\n",
       "            <td>North Lawndale</td>\n",
       "            <td>43.1</td>\n",
       "        </tr>\n",
       "        <tr>\n",
       "            <td>East Garfield Park</td>\n",
       "            <td>42.4</td>\n",
       "        </tr>\n",
       "    </tbody>\n",
       "</table>"
      ],
      "text/plain": [
       "[('Riverdale', Decimal('56.5')),\n",
       " ('Fuller Park', Decimal('51.2')),\n",
       " ('Englewood', Decimal('46.6')),\n",
       " ('North Lawndale', Decimal('43.1')),\n",
       " ('East Garfield Park', Decimal('42.4'))]"
      ]
     },
     "execution_count": 27,
     "metadata": {},
     "output_type": "execute_result"
    }
   ],
   "source": [
    "#List 5 community areas with highest % of households below poverty line\n",
    "\n",
    "%sql SELECT COMMUNITY_AREA_NAME as \"COMMUNITY_AREA_NAME\",\\\n",
    "PERCENT_HOUSEHOLDS_BELOW_POVERTY as \"PERCENT_HOUSEHOLDS_BELOW_POVERTY\"\\\n",
    "FROM CHICAGOCENSUSDATA\\\n",
    "ORDER BY PERCENT_HOUSEHOLDS_BELOW_POVERTY DESC  LIMIT 5;\n",
    "\n"
   ]
  },
  {
   "cell_type": "code",
   "execution_count": 134,
   "id": "218200bc-81bd-486b-b948-4f0758823358",
   "metadata": {},
   "outputs": [
    {
     "name": "stdout",
     "output_type": "stream",
     "text": [
      " * ibm_db_sa://dzk37375:***@dashdb-txn-sbox-yp-dal09-08.services.dal.bluemix.net:50000/BLUDB\n",
      "Done.\n"
     ]
    },
    {
     "data": {
      "text/html": [
       "<table>\n",
       "    <thead>\n",
       "        <tr>\n",
       "            <th>community_area_name</th>\n",
       "            <th>community_area_number</th>\n",
       "            <th>Number of crimes in this community</th>\n",
       "        </tr>\n",
       "    </thead>\n",
       "    <tbody>\n",
       "        <tr>\n",
       "            <td>Albany Park</td>\n",
       "            <td>25</td>\n",
       "            <td>43</td>\n",
       "        </tr>\n",
       "    </tbody>\n",
       "</table>"
      ],
      "text/plain": [
       "[('Albany Park', 25, Decimal('43'))]"
      ]
     },
     "execution_count": 134,
     "metadata": {},
     "output_type": "execute_result"
    }
   ],
   "source": [
    "#Which community area is most crime prone? To answer this question, data from multiple tables is used \n",
    "\n",
    "%sql SELECT CENSUS.COMMUNITY_AREA_NAME, CRIME.COMMUNITY_AREA_NUMBER, COUNT(CRIME.COMMUNITY_AREA_NUMBER) \\\n",
    "as \"Number of crimes in this community\" \\\n",
    "FROM CHICAGOCRIMEDATA CRIME, CHICAGOCENSUSDATA CENSUS WHERE CRIME.COMMUNITY_AREA_NUMBER IS NOT NULL \\\n",
    "GROUP BY CRIME.COMMUNITY_AREA_NUMBER, CENSUS.COMMUNITY_AREA_NAME ORDER BY COUNT(CRIME.COMMUNITY_AREA_NUMBER) DESC LIMIT 1; "
   ]
  },
  {
   "cell_type": "code",
   "execution_count": 75,
   "id": "c8ec1a1d-f437-4ccf-ae21-4d01e67bd7d2",
   "metadata": {},
   "outputs": [
    {
     "name": "stdout",
     "output_type": "stream",
     "text": [
      " * ibm_db_sa://dzk37375:***@dashdb-txn-sbox-yp-dal09-08.services.dal.bluemix.net:50000/BLUDB\n",
      "Done.\n"
     ]
    },
    {
     "data": {
      "text/html": [
       "<table>\n",
       "    <thead>\n",
       "        <tr>\n",
       "            <th>community_area_name</th>\n",
       "        </tr>\n",
       "    </thead>\n",
       "    <tbody>\n",
       "        <tr>\n",
       "            <td>Riverdale</td>\n",
       "        </tr>\n",
       "    </tbody>\n",
       "</table>"
      ],
      "text/plain": [
       "[('Riverdale',)]"
      ]
     },
     "execution_count": 75,
     "metadata": {},
     "output_type": "execute_result"
    }
   ],
   "source": [
    "#Use a sub-query to find the name of the community area with highest hardship index\n",
    "\n",
    "%sql SELECT COMMUNITY_AREA_NAME FROM CHICAGOCENSUSDATA WHERE HARDSHIP_INDEX = (SELECT MAX(HARDSHIP_INDEX) FROM CHICAGOCENSUSDATA);"
   ]
  },
  {
   "cell_type": "code",
   "execution_count": 76,
   "id": "7a1a5aaa-cea6-475a-9fd8-16abe296f31e",
   "metadata": {},
   "outputs": [
    {
     "name": "stdout",
     "output_type": "stream",
     "text": [
      " * ibm_db_sa://dzk37375:***@dashdb-txn-sbox-yp-dal09-08.services.dal.bluemix.net:50000/BLUDB\n",
      "Done.\n"
     ]
    },
    {
     "data": {
      "text/html": [
       "<table>\n",
       "    <thead>\n",
       "        <tr>\n",
       "            <th>community_area_name</th>\n",
       "        </tr>\n",
       "    </thead>\n",
       "    <tbody>\n",
       "        <tr>\n",
       "            <td>Albany Park</td>\n",
       "        </tr>\n",
       "    </tbody>\n",
       "</table>"
      ],
      "text/plain": [
       "[('Albany Park',)]"
      ]
     },
     "execution_count": 76,
     "metadata": {},
     "output_type": "execute_result"
    }
   ],
   "source": [
    "%sql SELECT CENSUS.COMMUNITY_AREA_NAME\\\n",
    "FROM CHICAGOCRIMEDATA CRIME, CHICAGOCENSUSDATA CENSUS WHERE CRIME.COMMUNITY_AREA_NUMBER IS NOT NULL \\\n",
    "GROUP BY CRIME.COMMUNITY_AREA_NUMBER, CENSUS.COMMUNITY_AREA_NAME ORDER BY COUNT(CRIME.COMMUNITY_AREA_NUMBER) DESC LIMIT 1; "
   ]
  },
  {
   "cell_type": "code",
   "execution_count": 109,
   "id": "0a1db7b6-ee9d-4514-b862-2b0c962da268",
   "metadata": {},
   "outputs": [
    {
     "name": "stdout",
     "output_type": "stream",
     "text": [
      " * ibm_db_sa://dzk37375:***@dashdb-txn-sbox-yp-dal09-08.services.dal.bluemix.net:50000/BLUDB\n",
      "Done.\n"
     ]
    },
    {
     "data": {
      "text/html": [
       "<table>\n",
       "    <thead>\n",
       "        <tr>\n",
       "            <th>community_area_name</th>\n",
       "            <th>per_capita_income</th>\n",
       "        </tr>\n",
       "    </thead>\n",
       "    <tbody>\n",
       "        <tr>\n",
       "            <td>Washington Park</td>\n",
       "            <td>13785</td>\n",
       "        </tr>\n",
       "    </tbody>\n",
       "</table>"
      ],
      "text/plain": [
       "[('Washington Park', 13785)]"
      ]
     },
     "execution_count": 109,
     "metadata": {},
     "output_type": "execute_result"
    }
   ],
   "source": [
    "#Find the Per Capita Income of the Community Area which has a school Safety Score of 1.\n",
    "\n",
    "%sql SELECT CENSUS.COMMUNITY_AREA_NAME, CENSUS.PER_CAPITA_INCOME\\\n",
    "FROM CHICAGOPUBLICSCHOOLS SCHOOLS, CHICAGOCENSUSDATA CENSUS WHERE SCHOOLS.SAFETY_SCORE = 1 \\\n",
    "AND CENSUS.COMMUNITY_AREA_NUMBER = SCHOOLS.COMMUNITY_AREA_NUMBER;   "
   ]
  },
  {
   "cell_type": "code",
   "execution_count": 111,
   "id": "610d1c85-8d5e-4417-8f89-37631fdd5608",
   "metadata": {},
   "outputs": [
    {
     "name": "stdout",
     "output_type": "stream",
     "text": [
      " * ibm_db_sa://dzk37375:***@dashdb-txn-sbox-yp-dal09-08.services.dal.bluemix.net:50000/BLUDB\n",
      "(ibm_db_dbi.ProgrammingError) ibm_db_dbi::ProgrammingError: SQLNumResultCols failed: [IBM][CLI Driver][DB2/LINUXX8664] SQL0104N  An unexpected token \"WHERE\" was found following \"OMMUNITY_AREA_NUMBER\".  Expected tokens may include:  \"OVERLAPS\".  SQLSTATE=42601 SQLCODE=-104\n",
      "[SQL: SELECT COMMUNITY_AREA_NUMBER, COUNT(*)  FROM CHICAGOCRIMEDATA GROUP BY COMMUNITY_AREA_NUMBER WHERE COUNT(*) >= 1 limit 5;]\n",
      "(Background on this error at: http://sqlalche.me/e/f405)\n"
     ]
    }
   ],
   "source": [
    "%sql SELECT COMMUNITY_AREA_NUMBER, COUNT(*) \\\n",
    "FROM CHICAGOCRIMEDATA GROUP BY COMMUNITY_AREA_NUMBER WHERE COUNT(*) >= 1 limit 5; "
   ]
  },
  {
   "cell_type": "code",
   "execution_count": 118,
   "id": "452cb870-b981-4893-ad1c-8afafe3292d8",
   "metadata": {},
   "outputs": [
    {
     "name": "stdout",
     "output_type": "stream",
     "text": [
      " * ibm_db_sa://dzk37375:***@dashdb-txn-sbox-yp-dal09-08.services.dal.bluemix.net:50000/BLUDB\n",
      "Done.\n"
     ]
    },
    {
     "data": {
      "text/html": [
       "<table>\n",
       "    <thead>\n",
       "        <tr>\n",
       "            <th>community_area_number</th>\n",
       "            <th>2</th>\n",
       "        </tr>\n",
       "    </thead>\n",
       "    <tbody>\n",
       "        <tr>\n",
       "            <td>1</td>\n",
       "            <td>6</td>\n",
       "        </tr>\n",
       "        <tr>\n",
       "            <td>2</td>\n",
       "            <td>7</td>\n",
       "        </tr>\n",
       "        <tr>\n",
       "            <td>3</td>\n",
       "            <td>4</td>\n",
       "        </tr>\n",
       "        <tr>\n",
       "            <td>4</td>\n",
       "            <td>3</td>\n",
       "        </tr>\n",
       "        <tr>\n",
       "            <td>5</td>\n",
       "            <td>4</td>\n",
       "        </tr>\n",
       "    </tbody>\n",
       "</table>"
      ],
      "text/plain": [
       "[(1, Decimal('6')),\n",
       " (2, Decimal('7')),\n",
       " (3, Decimal('4')),\n",
       " (4, Decimal('3')),\n",
       " (5, Decimal('4'))]"
      ]
     },
     "execution_count": 118,
     "metadata": {},
     "output_type": "execute_result"
    }
   ],
   "source": [
    "%sql SELECT COMMUNITY_AREA_NUMBER, COUNT(*) \\\n",
    "FROM CHICAGOCRIMEDATA  WHERE COMMUNITY_AREA_NUMBER > 1 GROUP BY COMMUNITY_AREA_NUMBER limit 5; "
   ]
  },
  {
   "cell_type": "code",
   "execution_count": 121,
   "id": "3e8eec91-75ef-45bb-acb4-b707e3c87666",
   "metadata": {},
   "outputs": [
    {
     "name": "stdout",
     "output_type": "stream",
     "text": [
      " * ibm_db_sa://dzk37375:***@dashdb-txn-sbox-yp-dal09-08.services.dal.bluemix.net:50000/BLUDB\n",
      "Done.\n"
     ]
    },
    {
     "data": {
      "text/html": [
       "<table>\n",
       "    <thead>\n",
       "        <tr>\n",
       "            <th>community_area_number</th>\n",
       "            <th>2</th>\n",
       "        </tr>\n",
       "    </thead>\n",
       "    <tbody>\n",
       "        <tr>\n",
       "            <td>1</td>\n",
       "            <td>6</td>\n",
       "        </tr>\n",
       "        <tr>\n",
       "            <td>2</td>\n",
       "            <td>7</td>\n",
       "        </tr>\n",
       "        <tr>\n",
       "            <td>3</td>\n",
       "            <td>4</td>\n",
       "        </tr>\n",
       "        <tr>\n",
       "            <td>4</td>\n",
       "            <td>3</td>\n",
       "        </tr>\n",
       "        <tr>\n",
       "            <td>5</td>\n",
       "            <td>4</td>\n",
       "        </tr>\n",
       "    </tbody>\n",
       "</table>"
      ],
      "text/plain": [
       "[(1, Decimal('6')),\n",
       " (2, Decimal('7')),\n",
       " (3, Decimal('4')),\n",
       " (4, Decimal('3')),\n",
       " (5, Decimal('4'))]"
      ]
     },
     "execution_count": 121,
     "metadata": {},
     "output_type": "execute_result"
    }
   ],
   "source": [
    "#Use a sub-query to determine the Community Area Name with most number of crimes?\n",
    "\n",
    "%sql SELECT COMMUNITY_AREA_NUMBER, COUNT(*) \\\n",
    "FROM CHICAGOCRIMEDATA GROUP BY COMMUNITY_AREA_NUMBER limit 5; "
   ]
  },
  {
   "cell_type": "code",
   "execution_count": 128,
   "id": "273f0730-5f44-4709-96a4-1a6f1b889907",
   "metadata": {},
   "outputs": [
    {
     "name": "stdout",
     "output_type": "stream",
     "text": [
      " * ibm_db_sa://dzk37375:***@dashdb-txn-sbox-yp-dal09-08.services.dal.bluemix.net:50000/BLUDB\n",
      "Done.\n"
     ]
    },
    {
     "data": {
      "text/html": [
       "<table>\n",
       "    <thead>\n",
       "        <tr>\n",
       "            <th>community_area_number</th>\n",
       "            <th>2</th>\n",
       "        </tr>\n",
       "    </thead>\n",
       "    <tbody>\n",
       "        <tr>\n",
       "            <td>25</td>\n",
       "            <td>43</td>\n",
       "        </tr>\n",
       "    </tbody>\n",
       "</table>"
      ],
      "text/plain": [
       "[(25, Decimal('43'))]"
      ]
     },
     "execution_count": 128,
     "metadata": {},
     "output_type": "execute_result"
    }
   ],
   "source": [
    "%sql SELECT COMMUNITY_AREA_NUMBER, COUNT(*) \\\n",
    "FROM CHICAGOCRIMEDATA WHERE COMMUNITY_AREA_NUMBER IS NOT NULL \\\n",
    "GROUP BY COMMUNITY_AREA_NUMBER HAVING COUNT(*) = 43; "
   ]
  },
  {
   "cell_type": "code",
   "execution_count": 129,
   "id": "28e21f89-3838-4786-ae46-ed0314eb1b1c",
   "metadata": {},
   "outputs": [
    {
     "name": "stdout",
     "output_type": "stream",
     "text": [
      " * ibm_db_sa://dzk37375:***@dashdb-txn-sbox-yp-dal09-08.services.dal.bluemix.net:50000/BLUDB\n",
      "(ibm_db_dbi.ProgrammingError) ibm_db_dbi::ProgrammingError: SQLNumResultCols failed: [IBM][CLI Driver][DB2/LINUXX8664] SQL0112N  The operand of the column function \"MAX\" includes a column function, a scalar fullselect, or a subquery.  SQLSTATE=42607 SQLCODE=-112\n",
      "[SQL: SELECT COMMUNITY_AREA_NUMBER, COUNT(*)  FROM CHICAGOCRIMEDATA WHERE COMMUNITY_AREA_NUMBER IS NOT NULL  GROUP BY COMMUNITY_AREA_NUMBER HAVING COUNT(*) = (SELECT MAX(COUNT(*)) FROM CHICAGOCRIMEDATA );]\n",
      "(Background on this error at: http://sqlalche.me/e/f405)\n"
     ]
    }
   ],
   "source": [
    "%sql SELECT COMMUNITY_AREA_NUMBER, COUNT(*) \\\n",
    "FROM CHICAGOCRIMEDATA WHERE COMMUNITY_AREA_NUMBER IS NOT NULL \\\n",
    "GROUP BY COMMUNITY_AREA_NUMBER HAVING COUNT(*) = (SELECT MAX(COUNT(*)) FROM CHICAGOCRIMEDATA); "
   ]
  },
  {
   "cell_type": "code",
   "execution_count": 132,
   "id": "28fec19c-fb93-475d-9978-98c2ec4988ef",
   "metadata": {},
   "outputs": [
    {
     "name": "stdout",
     "output_type": "stream",
     "text": [
      " * ibm_db_sa://dzk37375:***@dashdb-txn-sbox-yp-dal09-08.services.dal.bluemix.net:50000/BLUDB\n",
      "Done.\n"
     ]
    },
    {
     "data": {
      "text/html": [
       "<table>\n",
       "    <thead>\n",
       "        <tr>\n",
       "            <th>community_area_number</th>\n",
       "            <th>2</th>\n",
       "        </tr>\n",
       "    </thead>\n",
       "    <tbody>\n",
       "        <tr>\n",
       "            <td>25</td>\n",
       "            <td>43</td>\n",
       "        </tr>\n",
       "    </tbody>\n",
       "</table>"
      ],
      "text/plain": [
       "[(25, Decimal('43'))]"
      ]
     },
     "execution_count": 132,
     "metadata": {},
     "output_type": "execute_result"
    }
   ],
   "source": [
    "%sql SELECT COMMUNITY_AREA_NUMBER, COUNT(*) \\\n",
    "FROM CHICAGOCRIMEDATA WHERE COMMUNITY_AREA_NUMBER IS NOT NULL \\\n",
    "GROUP BY COMMUNITY_AREA_NUMBER HAVING COUNT(*) = 43; "
   ]
  },
  {
   "cell_type": "code",
   "execution_count": 133,
   "id": "9b82a0d5-1319-4e0f-a32c-0681e8968d03",
   "metadata": {},
   "outputs": [
    {
     "name": "stdout",
     "output_type": "stream",
     "text": [
      " * ibm_db_sa://dzk37375:***@dashdb-txn-sbox-yp-dal09-08.services.dal.bluemix.net:50000/BLUDB\n",
      "(ibm_db_dbi.ProgrammingError) ibm_db_dbi::ProgrammingError: SQLNumResultCols failed: [IBM][CLI Driver][DB2/LINUXX8664] SQL0112N  The operand of the column function \"MAX\" includes a column function, a scalar fullselect, or a subquery.  SQLSTATE=42607 SQLCODE=-112\n",
      "[SQL: SELECT COMMUNITY_AREA_NUMBER, MAX(COUNT(*))  FROM CHICAGOCRIMEDATA WHERE COMMUNITY_AREA_NUMBER IS NOT NULL  GROUP BY COMMUNITY_AREA_NUMBER;]\n",
      "(Background on this error at: http://sqlalche.me/e/f405)\n"
     ]
    }
   ],
   "source": [
    "%sql SELECT COMMUNITY_AREA_NUMBER, MAX(COUNT(*)) \\\n",
    "FROM CHICAGOCRIMEDATA WHERE COMMUNITY_AREA_NUMBER IS NOT NULL \\\n",
    "GROUP BY COMMUNITY_AREA_NUMBER; "
   ]
  },
  {
   "cell_type": "code",
   "execution_count": 135,
   "id": "e85b0e04-f06e-4c7a-9a24-99e5daecfec1",
   "metadata": {},
   "outputs": [
    {
     "name": "stdout",
     "output_type": "stream",
     "text": [
      " * ibm_db_sa://dzk37375:***@dashdb-txn-sbox-yp-dal09-08.services.dal.bluemix.net:50000/BLUDB\n",
      "(ibm_db_dbi.ProgrammingError) ibm_db_dbi::ProgrammingError: SQLNumResultCols failed: [IBM][CLI Driver][DB2/LINUXX8664] SQL0112N  The operand of the column function \"MAX\" includes a column function, a scalar fullselect, or a subquery.  SQLSTATE=42607 SQLCODE=-112\n",
      "[SQL: SELECT COMMUNITY_AREA_NUMBER, COUNT(*)  FROM CHICAGOCRIMEDATA WHERE COMMUNITY_AREA_NUMBER IS NOT NULL  GROUP BY COMMUNITY_AREA_NUMBER HAVING COUNT(*) = (select max(count(*)) from CHICAGOCRIMEDATA);]\n",
      "(Background on this error at: http://sqlalche.me/e/f405)\n"
     ]
    }
   ],
   "source": [
    "    %sql SELECT COMMUNITY_AREA_NUMBER, COUNT(*) \\\n",
    "    FROM CHICAGOCRIMEDATA WHERE COMMUNITY_AREA_NUMBER IS NOT NULL \\\n",
    "    GROUP BY COMMUNITY_AREA_NUMBER HAVING COUNT(*) = (select max(count(*)) from CHICAGOCRIMEDATA);"
   ]
  },
  {
   "cell_type": "code",
   "execution_count": 139,
   "id": "5a961969-ac45-46f5-987a-2b0093a36b0c",
   "metadata": {},
   "outputs": [
    {
     "name": "stdout",
     "output_type": "stream",
     "text": [
      " * ibm_db_sa://dzk37375:***@dashdb-txn-sbox-yp-dal09-08.services.dal.bluemix.net:50000/BLUDB\n",
      "Done.\n"
     ]
    },
    {
     "data": {
      "text/html": [
       "<table>\n",
       "    <thead>\n",
       "        <tr>\n",
       "            <th>community_area_number</th>\n",
       "            <th>2</th>\n",
       "        </tr>\n",
       "    </thead>\n",
       "    <tbody>\n",
       "        <tr>\n",
       "            <td>25</td>\n",
       "            <td>43</td>\n",
       "        </tr>\n",
       "    </tbody>\n",
       "</table>"
      ],
      "text/plain": [
       "[(25, Decimal('43'))]"
      ]
     },
     "execution_count": 139,
     "metadata": {},
     "output_type": "execute_result"
    }
   ],
   "source": [
    "    %sql SELECT COMMUNITY_AREA_NUMBER, COUNT(*) \\\n",
    "    FROM CHICAGOCRIMEDATA WHERE COMMUNITY_AREA_NUMBER IS NOT NULL \\\n",
    "    GROUP BY COMMUNITY_AREA_NUMBER HAVING COUNT(*) = 43;"
   ]
  },
  {
   "cell_type": "code",
   "execution_count": 138,
   "id": "9d05ce7b-7cc8-468d-a972-713283bc56dd",
   "metadata": {},
   "outputs": [
    {
     "name": "stdout",
     "output_type": "stream",
     "text": [
      " * ibm_db_sa://dzk37375:***@dashdb-txn-sbox-yp-dal09-08.services.dal.bluemix.net:50000/BLUDB\n",
      "Done.\n"
     ]
    },
    {
     "data": {
      "text/html": [
       "<table>\n",
       "    <thead>\n",
       "        <tr>\n",
       "            <th>community_area_number</th>\n",
       "            <th>2</th>\n",
       "        </tr>\n",
       "    </thead>\n",
       "    <tbody>\n",
       "        <tr>\n",
       "            <td>25</td>\n",
       "            <td>43</td>\n",
       "        </tr>\n",
       "    </tbody>\n",
       "</table>"
      ],
      "text/plain": [
       "[(25, Decimal('43'))]"
      ]
     },
     "execution_count": 138,
     "metadata": {},
     "output_type": "execute_result"
    }
   ],
   "source": [
    "%sql SELECT COMMUNITY_AREA_NUMBER, COUNT(*) \\\n",
    "FROM CHICAGOCRIMEDATA WHERE COMMUNITY_AREA_NUMBER IS NOT NULL \\\n",
    "GROUP BY COMMUNITY_AREA_NUMBER HAVING COUNT(*) = 43; "
   ]
  },
  {
   "cell_type": "code",
   "execution_count": null,
   "id": "3da3e3bb-e0cc-4a53-9ff6-576174fbff13",
   "metadata": {},
   "outputs": [],
   "source": []
  }
 ],
 "metadata": {
  "kernelspec": {
   "display_name": "Python",
   "language": "python",
   "name": "conda-env-python-py"
  },
  "language_info": {
   "codemirror_mode": {
    "name": "ipython",
    "version": 3
   },
   "file_extension": ".py",
   "mimetype": "text/x-python",
   "name": "python",
   "nbconvert_exporter": "python",
   "pygments_lexer": "ipython3",
   "version": "3.6.13"
  }
 },
 "nbformat": 4,
 "nbformat_minor": 5
}
